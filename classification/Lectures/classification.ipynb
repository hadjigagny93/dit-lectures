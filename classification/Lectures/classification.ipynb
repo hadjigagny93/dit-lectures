{
 "metadata": {
  "language_info": {
   "codemirror_mode": {
    "name": "ipython",
    "version": 3
   },
   "file_extension": ".py",
   "mimetype": "text/x-python",
   "name": "python",
   "nbconvert_exporter": "python",
   "pygments_lexer": "ipython3",
   "version": "3.9.0-final"
  },
  "orig_nbformat": 2,
  "kernelspec": {
   "name": "python3",
   "display_name": "Python 3.9.0 64-bit ('dit-lectures': pipenv)",
   "metadata": {
    "interpreter": {
     "hash": "4f817bfc0308b18386fe442484e1a520ada2964def5a51cf21029013c7d524b9"
    }
   }
  }
 },
 "nbformat": 4,
 "nbformat_minor": 2,
 "cells": [
  {
   "source": [
    "# IV - Machine Learning"
   ],
   "cell_type": "markdown",
   "metadata": {}
  },
  {
   "source": [
    "## IV.2. Classification 🌺"
   ],
   "cell_type": "markdown",
   "metadata": {}
  },
  {
   "source": [
    "La **classification** en apprentissage supervisé consiste à prédire des sorties (target) discrètes en fonctions d'entrées (features). Les cas d'usage courant sont entres autres la classification d'email, la détection d'objets etc ...\n",
    "\n",
    "- **Scoring de crédit**\n",
    "- **Détection de churn**\n",
    "- **Classification d’images (détecteur chien/chat)**\n",
    "- **Chaîne de production (pièce en bon état/mauvais état)**\n",
    "- **Classifieur d’email (spam/non spam)**\n",
    "- **Diagnostic médical**\n",
    "- **Détection de fraude**\n",
    "\n",
    "\n",
    "![alt](medic.png) | ![alt](email.png)"
   ],
   "cell_type": "markdown",
   "metadata": {}
  },
  {
   "source": [
    "# I. Concepts généraux"
   ],
   "cell_type": "markdown",
   "metadata": {}
  },
  {
   "cell_type": "code",
   "execution_count": null,
   "metadata": {},
   "outputs": [],
   "source": []
  },
  {
   "source": [
    "<img src=\"classif.png\" width=\"500\">"
   ],
   "cell_type": "markdown",
   "metadata": {}
  },
  {
   "source": [
    "<img src=\"tableau.png\" width=\"900\">"
   ],
   "cell_type": "markdown",
   "metadata": {}
  },
  {
   "cell_type": "code",
   "execution_count": null,
   "metadata": {},
   "outputs": [],
   "source": []
  },
  {
   "cell_type": "code",
   "execution_count": null,
   "metadata": {},
   "outputs": [],
   "source": []
  },
  {
   "cell_type": "code",
   "execution_count": null,
   "metadata": {},
   "outputs": [],
   "source": []
  },
  {
   "source": [
    "# I-1. Deséquilibre des classes"
   ],
   "cell_type": "markdown",
   "metadata": {}
  },
  {
   "source": [
    "Votre patron vous dit de construire un classificateur capable d'identifier les fraudes les transactions dans les historiques des cartes de crédit. \n",
    "Heureusement, la plupart des transactions sont légitimes, donc peut-être que seulement 0,1 % des données est une in-position. Le problème du déséquilibre des données se rapporte au fait que, pour une grand nombre de problèmes réels, le nombre d'examens positifs\n",
    "Le nombre d'exemples négatifs (ou vice versa) est bien inférieur à celui de l'ensemble.\n",
    "\n",
    "Il s'agit en fait d'une erreur d'appellation : ce ne sont pas les données qui sont\n",
    "déséquilibrée, mais la distribution dont les données sont tirées. (Et\n",
    "puisque la répartition est déséquilibrée, les données doivent l'être aussi)."
   ],
   "cell_type": "markdown",
   "metadata": {}
  },
  {
   "source": [
    "<img src=\"imbalanced.png\" width=\"900\">"
   ],
   "cell_type": "markdown",
   "metadata": {}
  },
  {
   "source": [
    "# II. Metriques "
   ],
   "cell_type": "markdown",
   "metadata": {}
  },
  {
   "source": [
    "![alt](precision.png) | ![alt](recall.png) | ![alt](fp.png)"
   ],
   "cell_type": "markdown",
   "metadata": {}
  },
  {
   "cell_type": "code",
   "execution_count": null,
   "metadata": {},
   "outputs": [],
   "source": []
  },
  {
   "cell_type": "code",
   "execution_count": null,
   "metadata": {},
   "outputs": [],
   "source": []
  },
  {
   "source": [
    "<img src=\"matrix.png\" width=\"1100\">"
   ],
   "cell_type": "markdown",
   "metadata": {}
  },
  {
   "source": [
    "<img src=\"roc.png\" width=\"1100\">"
   ],
   "cell_type": "markdown",
   "metadata": {}
  },
  {
   "source": [
    "# III. Quelques algorithmes de classification"
   ],
   "cell_type": "markdown",
   "metadata": {}
  },
  {
   "cell_type": "code",
   "execution_count": null,
   "metadata": {},
   "outputs": [],
   "source": []
  },
  {
   "cell_type": "code",
   "execution_count": null,
   "metadata": {},
   "outputs": [],
   "source": []
  },
  {
   "cell_type": "code",
   "execution_count": null,
   "metadata": {},
   "outputs": [],
   "source": []
  },
  {
   "cell_type": "code",
   "execution_count": null,
   "metadata": {},
   "outputs": [],
   "source": []
  },
  {
   "source": [
    "# IV. Implémentation"
   ],
   "cell_type": "markdown",
   "metadata": {}
  },
  {
   "cell_type": "code",
   "execution_count": null,
   "metadata": {},
   "outputs": [],
   "source": []
  },
  {
   "cell_type": "code",
   "execution_count": null,
   "metadata": {},
   "outputs": [],
   "source": []
  },
  {
   "cell_type": "code",
   "execution_count": null,
   "metadata": {},
   "outputs": [],
   "source": []
  },
  {
   "cell_type": "code",
   "execution_count": null,
   "metadata": {},
   "outputs": [],
   "source": []
  },
  {
   "cell_type": "code",
   "execution_count": null,
   "metadata": {},
   "outputs": [],
   "source": []
  },
  {
   "cell_type": "code",
   "execution_count": null,
   "metadata": {},
   "outputs": [],
   "source": []
  }
 ]
}