{
 "metadata": {
  "language_info": {
   "codemirror_mode": {
    "name": "ipython",
    "version": 3
   },
   "file_extension": ".py",
   "mimetype": "text/x-python",
   "name": "python",
   "nbconvert_exporter": "python",
   "pygments_lexer": "ipython3",
   "version": "3.9.0-final"
  },
  "orig_nbformat": 2,
  "kernelspec": {
   "name": "python3",
   "display_name": "Python 3.9.0 64-bit ('dit-lectures': pipenv)",
   "metadata": {
    "interpreter": {
     "hash": "4f817bfc0308b18386fe442484e1a520ada2964def5a51cf21029013c7d524b9"
    }
   }
  }
 },
 "nbformat": 4,
 "nbformat_minor": 2,
 "cells": [
  {
   "source": [
    "# IV - Machine Learning"
   ],
   "cell_type": "markdown",
   "metadata": {}
  },
  {
   "source": [
    "## IV.2. Classification 🌺"
   ],
   "cell_type": "markdown",
   "metadata": {}
  },
  {
   "source": [
    "La **classification** en apprentissage supervisé consiste à prédire des sorties (target) discrètes en fonctions d'entrées (features). Les cas d'usage courant sont entres autres la classification d'email, la détection d'objets etc ...\n",
    "\n",
    "- **Scoring de crédit**\n",
    "- **Détection de churn**\n",
    "- **Classification d’images (détecteur chien/chat)**\n",
    "- **Chaîne de production (pièce en bon état/mauvais état)**\n",
    "- **Classifieur d’email (spam/non spam)**\n",
    "- **Diagnostic médical**\n",
    "- **Détection de fraude**\n",
    "\n",
    "A | B\n",
    "- | - \n",
    "![alt](medic.png) | ![alt](email.png)"
   ],
   "cell_type": "markdown",
   "metadata": {}
  },
  {
   "source": [
    "# I. Concepts généraux"
   ],
   "cell_type": "markdown",
   "metadata": {}
  },
  {
   "cell_type": "code",
   "execution_count": null,
   "metadata": {},
   "outputs": [],
   "source": []
  },
  {
   "source": [
    "<img src=\"classif.png\" width=\"500\">"
   ],
   "cell_type": "markdown",
   "metadata": {}
  },
  {
   "source": [
    "<img src=\"tableau.png\" width=\"900\">"
   ],
   "cell_type": "markdown",
   "metadata": {}
  },
  {
   "source": [
    "# II. Metriques "
   ],
   "cell_type": "markdown",
   "metadata": {}
  },
  {
   "source": [
    "\n",
    "A | B | C\n",
    "- | - | -\n",
    "![alt](precision.png) | ![alt](recall.png) | ![alt](fp.png)"
   ],
   "cell_type": "markdown",
   "metadata": {}
  },
  {
   "source": [
    "<img src=\"matrix.png\" width=\"1100\">"
   ],
   "cell_type": "markdown",
   "metadata": {}
  },
  {
   "source": [
    "<img src=\"roc.png\" width=\"1100\">"
   ],
   "cell_type": "markdown",
   "metadata": {}
  },
  {
   "source": [
    "# III. Quelques algorithmes de classification"
   ],
   "cell_type": "markdown",
   "metadata": {}
  },
  {
   "cell_type": "code",
   "execution_count": null,
   "metadata": {},
   "outputs": [],
   "source": []
  },
  {
   "cell_type": "code",
   "execution_count": null,
   "metadata": {},
   "outputs": [],
   "source": []
  },
  {
   "cell_type": "code",
   "execution_count": null,
   "metadata": {},
   "outputs": [],
   "source": []
  },
  {
   "cell_type": "code",
   "execution_count": null,
   "metadata": {},
   "outputs": [],
   "source": []
  },
  {
   "source": [
    "# IV. Quelques algorithmes de classification"
   ],
   "cell_type": "markdown",
   "metadata": {}
  },
  {
   "cell_type": "code",
   "execution_count": null,
   "metadata": {},
   "outputs": [],
   "source": []
  }
 ]
}