{
 "metadata": {
  "language_info": {
   "codemirror_mode": {
    "name": "ipython",
    "version": 3
   },
   "file_extension": ".py",
   "mimetype": "text/x-python",
   "name": "python",
   "nbconvert_exporter": "python",
   "pygments_lexer": "ipython3",
   "version": "3.9.0-final"
  },
  "orig_nbformat": 2,
  "kernelspec": {
   "name": "python3",
   "display_name": "Python 3.9.0 64-bit ('dit-lectures': pipenv)",
   "metadata": {
    "interpreter": {
     "hash": "4f817bfc0308b18386fe442484e1a520ada2964def5a51cf21029013c7d524b9"
    }
   }
  }
 },
 "nbformat": 4,
 "nbformat_minor": 2,
 "cells": [
  {
   "source": [
    "# IV - Machine Learning"
   ],
   "cell_type": "markdown",
   "metadata": {}
  },
  {
   "source": [
    "## IV.2. Classification 🌺"
   ],
   "cell_type": "markdown",
   "metadata": {}
  },
  {
   "source": [
    "La **classification** en apprentissage supervisé consiste à prédire des sorties (target) discrètes en fonctions d'entrées (features). Les cas d'usage courant sont entres autres la classification d'email, la détection d'objets etc ...\n",
    "\n",
    "- **Scoring de crédit**\n",
    "- **Détection de churn**\n",
    "- **Classification d’images (détecteur chien/chat)**\n",
    "- **Chaîne de production (pièce en bon état/mauvais état)**\n",
    "- **Classifieur d’email (spam/non spam)**\n",
    "- **Diagnostic médical**\n",
    "- **Détection de fraude**\n",
    "\n",
    "\n",
    "![alt](medic.png) | ![alt](email.png)"
   ],
   "cell_type": "markdown",
   "metadata": {}
  },
  {
   "source": [
    "# I. Concepts généraux"
   ],
   "cell_type": "markdown",
   "metadata": {}
  },
  {
   "cell_type": "code",
   "execution_count": null,
   "metadata": {},
   "outputs": [],
   "source": []
  },
  {
   "source": [
    "<img src=\"classif.png\" width=\"500\">"
   ],
   "cell_type": "markdown",
   "metadata": {}
  },
  {
   "source": [
    "En général, le **modèle discriminative** modélise la frontière de décision entre les classes. Un modèle génératif modélise explicitement la distribution réelle de chaque classe.\n",
    "\n",
    "Un **modèle génératif** apprend la distribution de probabilité jointe des prédicteurs et de la target. Il prédit la probabilité conditionnelle à l'aide du théorème de Bayes.\n",
    "\n",
    "<img src=\"tableau.png\" width=\"900\">"
   ],
   "cell_type": "markdown",
   "metadata": {}
  },
  {
   "cell_type": "code",
   "execution_count": null,
   "metadata": {},
   "outputs": [],
   "source": []
  },
  {
   "cell_type": "code",
   "execution_count": null,
   "metadata": {},
   "outputs": [],
   "source": []
  },
  {
   "cell_type": "code",
   "execution_count": null,
   "metadata": {},
   "outputs": [],
   "source": []
  },
  {
   "source": [
    "# I-1. Deséquilibre des classes"
   ],
   "cell_type": "markdown",
   "metadata": {}
  },
  {
   "source": [
    "Votre patron vous dit de construire un classificateur capable d'identifier les transactions frauduleuses dans les historiques de cartes de crédit. Heureusement, la plupart des transactions sont légitimes, sauf 0,1 % des données transactionnelles qui sont suspectes. \n",
    "\n",
    "Le problème dans ce cas de figure est le suivant:\n",
    "- Vous entrainez un modèle de classification et obtenez **99%** comme métrique de mesure.\n",
    "- Sauf que les 99% ne concerne que la classe majpritaire (En fait, vous avez envie de detecter la fraude et non la tendance normale !)\n",
    "\n",
    "Pour résoudre ce problème, plusieurs choix s'offrent à vous quant à l'approche de résolution que vous souhaiteriez mettre en oeuvre.\n",
    "On en présentera deux classiques"
   ],
   "cell_type": "markdown",
   "metadata": {}
  },
  {
   "source": [
    "<img src=\"imbalanced.png\" width=\"500\">"
   ],
   "cell_type": "markdown",
   "metadata": {}
  },
  {
   "source": [
    "# a - Ré-échantillonage"
   ],
   "cell_type": "markdown",
   "metadata": {}
  },
  {
   "source": [
    "\n",
    "**SMOTE (Synthetic Minority Over-sampling Technique - Méthode synthétique de sur-échantillonage de la classe minoritaire) ** est à la fois une des méthodes les plus élaborées mais aussi les plus \"natuelles\" pour comprendre le problème du déséquilibre de classe. \n",
    "\n",
    "L'Idée générale est de générée de manière \"synthétique\" (contrairement à des méthodes probabilistes qui renvoie toujours les meme données) de nouvelles données en respectant certaines critères géométriques et de convexité. \n",
    "\n",
    "<img src=\"smote.png\" width=\"300\">\n"
   ],
   "cell_type": "markdown",
   "metadata": {}
  },
  {
   "source": [
    "# b - (Pondération d'importance) Importance Weight"
   ],
   "cell_type": "markdown",
   "metadata": {}
  },
  {
   "source": [
    "Supposons que nous soyons dans le cadre d'un service à mettre en place pour le SAMU ou l'idée est d'implementer une modèle de classification pour la detection de la gravité d'un appel au service (SAMU). Naturellement, on aura tendance à donner plus d'importance aux erreurs sur des cas graves que des cas non grave ou benins.\n",
    "- l'erreur sur la classe positive sera de +1 dans la classification classique, ici ce sera multiplé par un facteur lambda plus grand que 1\n",
    "\n"
   ],
   "cell_type": "markdown",
   "metadata": {}
  },
  {
   "cell_type": "code",
   "execution_count": null,
   "metadata": {},
   "outputs": [],
   "source": []
  },
  {
   "cell_type": "code",
   "execution_count": null,
   "metadata": {},
   "outputs": [],
   "source": []
  },
  {
   "source": [
    "# II. Metriques "
   ],
   "cell_type": "markdown",
   "metadata": {}
  },
  {
   "source": [
    "![alt](precision.png) | ![alt](recall.png) | ![alt](fp.png) | ![alt](confusion.png) "
   ],
   "cell_type": "markdown",
   "metadata": {}
  },
  {
   "cell_type": "code",
   "execution_count": null,
   "metadata": {},
   "outputs": [],
   "source": []
  },
  {
   "cell_type": "code",
   "execution_count": null,
   "metadata": {},
   "outputs": [],
   "source": []
  },
  {
   "source": [
    "<img src=\"matrix.png\" width=\"1100\">"
   ],
   "cell_type": "markdown",
   "metadata": {}
  },
  {
   "source": [
    "<img src=\"roc.png\" width=\"1100\">"
   ],
   "cell_type": "markdown",
   "metadata": {}
  },
  {
   "source": [
    "# III. Quelques algorithmes de classification"
   ],
   "cell_type": "markdown",
   "metadata": {}
  },
  {
   "cell_type": "code",
   "execution_count": null,
   "metadata": {},
   "outputs": [],
   "source": []
  },
  {
   "cell_type": "code",
   "execution_count": null,
   "metadata": {},
   "outputs": [],
   "source": []
  },
  {
   "cell_type": "code",
   "execution_count": null,
   "metadata": {},
   "outputs": [],
   "source": []
  },
  {
   "cell_type": "code",
   "execution_count": null,
   "metadata": {},
   "outputs": [],
   "source": []
  },
  {
   "source": [
    "# IV. Implémentation"
   ],
   "cell_type": "markdown",
   "metadata": {}
  },
  {
   "cell_type": "code",
   "execution_count": null,
   "metadata": {},
   "outputs": [],
   "source": []
  },
  {
   "cell_type": "code",
   "execution_count": null,
   "metadata": {},
   "outputs": [],
   "source": []
  },
  {
   "cell_type": "code",
   "execution_count": null,
   "metadata": {},
   "outputs": [],
   "source": []
  },
  {
   "cell_type": "code",
   "execution_count": null,
   "metadata": {},
   "outputs": [],
   "source": []
  },
  {
   "cell_type": "code",
   "execution_count": null,
   "metadata": {},
   "outputs": [],
   "source": []
  },
  {
   "cell_type": "code",
   "execution_count": null,
   "metadata": {},
   "outputs": [],
   "source": []
  }
 ]
}